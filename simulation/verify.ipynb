{
 "cells": [
  {
   "cell_type": "code",
   "execution_count": 4,
   "id": "337ae3ee",
   "metadata": {},
   "outputs": [],
   "source": [
    "import warnings\n",
    "warnings.filterwarnings('ignore')\n",
    "\n",
    "import sys\n",
    "sys.path.append(\"..\")\n",
    "\n",
    "import numpy as np\n",
    "from utility import Utility\n",
    "from test_average import evaluate\n",
    "from qiskit.quantum_info import random_unitary\n",
    "from logger import Logger\n",
    "from quantum_state import QuantumState\n",
    "import copy\n",
    "import matplotlib.pyplot as plt\n",
    "from povm import Povm\n",
    "from quantum_measurement import QuantumMeasurement\n",
    "from qiskit.quantum_info.operators.operator import Operator"
   ]
  },
  {
   "cell_type": "code",
   "execution_count": 6,
   "id": "2e656e34",
   "metadata": {},
   "outputs": [],
   "source": [
    "def print_vector(vec):\n",
    "    for e in vec:\n",
    "        print(f'{e:.4f}', end=', ')\n",
    "    print()"
   ]
  },
  {
   "cell_type": "markdown",
   "id": "a93e13d4",
   "metadata": {},
   "source": [
    "# 1 The Unitary Operator"
   ]
  },
  {
   "cell_type": "code",
   "execution_count": 7,
   "id": "0d119a99",
   "metadata": {},
   "outputs": [
    {
     "name": "stdout",
     "output_type": "stream",
     "text": [
      "Unitary Operator:\n",
      "( 0.85717+0.43483i) ( 0.19779-0.19253i) \n",
      "(-0.19779-0.19253i) ( 0.85717-0.43483i) \n"
     ]
    }
   ],
   "source": [
    "num_sensor = 3\n",
    "theta = 31\n",
    "seed =  2\n",
    "RAD = 180/np.pi\n",
    "\n",
    "unitary_operator = Utility.generate_unitary_operator(theta, seed)\n",
    "Utility.print_matrix('Unitary Operator:', unitary_operator.data)"
   ]
  },
  {
   "cell_type": "markdown",
   "id": "f348df73",
   "metadata": {},
   "source": [
    "### 1.1 Verify if $(U^{\\dagger} \\otimes U \\otimes I $) is unitary if $U$ is unitary"
   ]
  },
  {
   "cell_type": "code",
   "execution_count": 8,
   "id": "d4aea7d3",
   "metadata": {},
   "outputs": [
    {
     "name": "stdout",
     "output_type": "stream",
     "text": [
      "True True True True True True True True True True True True True True True True True True True True True True True True True True True True True True True True True True True True True True True True True True True True True True True True True True True True True True True True True True True True True True True True True True True True True True True True True True True True True True True True True True True True True True True True True True True True True True True True True True True True True True True True True True True True True True "
     ]
    }
   ],
   "source": [
    "for theta in range(1, 102, 10):\n",
    "    for seed in range(10):\n",
    "        U = Utility.generate_unitary_operator(theta, seed)\n",
    "        U_inv = Operator(np.linalg.inv(U.data))\n",
    "        I = Operator(np.eye(2))\n",
    "        prod = U_inv.tensor(U)\n",
    "        prod = prod.tensor(I)\n",
    "        print(prod.is_unitary(), end=' ')"
   ]
  },
  {
   "cell_type": "markdown",
   "id": "c43e0b11",
   "metadata": {},
   "source": [
    "### 1.2 Eigen value and eigen vector of $U$"
   ]
  },
  {
   "cell_type": "code",
   "execution_count": 9,
   "id": "98514a8b",
   "metadata": {},
   "outputs": [
    {
     "name": "stdout",
     "output_type": "stream",
     "text": [
      "eigen values\n",
      "-0.1908-0.9816j, -0.1908+0.9816j, \n",
      "theta = 259.0\n",
      "eigen vectors\n",
      "vec0: 0.7746+0.0000j, -0.4819-0.4095j, \n",
      "vec1: 0.4819-0.4095j, 0.7746+0.0000j, \n"
     ]
    }
   ],
   "source": [
    "U = Utility.generate_unitary_operator(theta, seed)\n",
    "e_vals, e_vectors = np.linalg.eig(U.data)\n",
    "\n",
    "print('eigen values')\n",
    "print_vector(e_vals)\n",
    "print(f'theta = {Utility.get_theta(e_vals[0].real, e_vals[0].imag) * RAD}')\n",
    "print('eigen vectors')\n",
    "ev = []\n",
    "for i in range(len(e_vectors[0])):\n",
    "    print(f'vec{i}: ', end = '')\n",
    "    ev.append(e_vectors[:, i])\n",
    "    print_vector(ev[-1])"
   ]
  },
  {
   "cell_type": "code",
   "execution_count": 153,
   "id": "ec3460c9",
   "metadata": {},
   "outputs": [
    {
     "name": "stdout",
     "output_type": "stream",
     "text": [
      "1.3943372487965712e-16\n"
     ]
    }
   ],
   "source": [
    "print(abs(np.dot(np.conj(ev[0]), ev[1])))"
   ]
  },
  {
   "cell_type": "markdown",
   "id": "f6c0efce",
   "metadata": {},
   "source": [
    "### 1.2.1 eigenvectors of $u_{\\pm} \\otimes u_{\\pm}$, orthogonal?"
   ]
  },
  {
   "cell_type": "code",
   "execution_count": 154,
   "id": "06009a8a",
   "metadata": {},
   "outputs": [
    {
     "name": "stdout",
     "output_type": "stream",
     "text": [
      "0.1869+0.1920j, 0.9221+0.0000j, -0.0779+0.0000j, -0.1869+0.1920j, \n",
      "0.9221+0.0000j, -0.1869+0.1920j, -0.1869+0.1920j, -0.0021-0.0778j, \n",
      "0.1869+0.1920j, -0.0779+0.0000j, 0.9221+0.0000j, -0.1869+0.1920j, \n",
      "-0.0021+0.0778j, 0.1869+0.1920j, 0.1869+0.1920j, 0.9221+0.0000j, \n"
     ]
    }
   ],
   "source": [
    "print_vector(np.kron(ev[0], ev[1]))\n",
    "print_vector(np.kron(ev[0], ev[0]))\n",
    "print_vector(np.kron(ev[1], ev[0]))\n",
    "print_vector(np.kron(ev[1], ev[1]))\n",
    "vec = []\n",
    "vec.append(np.kron(ev[0], ev[1]))\n",
    "vec.append(np.kron(ev[0], ev[0]))\n",
    "vec.append(np.kron(ev[1], ev[0]))\n",
    "vec.append(np.kron(ev[1], ev[1]))"
   ]
  },
  {
   "cell_type": "code",
   "execution_count": 155,
   "id": "55b47246",
   "metadata": {},
   "outputs": [
    {
     "name": "stdout",
     "output_type": "stream",
     "text": [
      "0 1 1.2404182639872388e-16\n",
      "0 2 0.0\n",
      "0 3 1.0007415106216802e-16\n",
      "1 2 1.153297605929378e-16\n",
      "1 3 1.2638295033559196e-17\n",
      "2 3 1.2412670766236366e-16\n"
     ]
    }
   ],
   "source": [
    "for i in range(len(vec)):\n",
    "    for j in range(i + 1, len(vec)):\n",
    "        tmp = np.dot(np.conj(vec[i]), vec[j])\n",
    "        print(i, j, abs(tmp))"
   ]
  },
  {
   "cell_type": "markdown",
   "id": "d4301560",
   "metadata": {},
   "source": [
    "### 1.2.1 eigenvectors of $u_{\\pm} \\otimes u_{\\pm} \\otimes u_{\\pm}$, orthogonal?"
   ]
  },
  {
   "cell_type": "code",
   "execution_count": 157,
   "id": "014905f4",
   "metadata": {},
   "outputs": [],
   "source": [
    "vec3 = []\n",
    "vec3.append(np.kron(np.kron(ev[0], ev[0]), ev[0]))\n",
    "vec3.append(np.kron(np.kron(ev[1], ev[0]), ev[0]))\n",
    "vec3.append(np.kron(np.kron(ev[0], ev[1]), ev[0]))\n",
    "vec3.append(np.kron(np.kron(ev[1], ev[1]), ev[0]))\n",
    "vec3.append(np.kron(np.kron(ev[0], ev[0]), ev[1]))\n",
    "vec3.append(np.kron(np.kron(ev[1], ev[0]), ev[1]))\n",
    "vec3.append(np.kron(np.kron(ev[1], ev[0]), ev[1]))\n",
    "vec3.append(np.kron(np.kron(ev[1], ev[1]), ev[1]))"
   ]
  },
  {
   "cell_type": "code",
   "execution_count": null,
   "id": "58441e8e",
   "metadata": {},
   "outputs": [],
   "source": [
    "for i in range(len(vec3)):\n",
    "    for j in range(i + 1, len(vec3)):\n",
    "        tmp = np.dot(np.conj(vec3[i]), vec3[j])\n",
    "        print(i, j, abs(tmp))"
   ]
  },
  {
   "cell_type": "markdown",
   "id": "ef9b4b82",
   "metadata": {},
   "source": [
    "### 1.3 Eigen value and eigen vector of $(U^{\\dagger} \\otimes U$)"
   ]
  },
  {
   "cell_type": "code",
   "execution_count": 111,
   "id": "dcc11d87",
   "metadata": {},
   "outputs": [
    {
     "name": "stdout",
     "output_type": "stream",
     "text": [
      "eigen values\n",
      "0.1736-0.9848j, 1.0000-0.0000j, 0.1736+0.9848j, 1.0000+0.0000j, \n",
      "theta = 80.0\n",
      "eigen vectors\n",
      "vec0: 0.1869+0.1920j, 0.9221+0.0000j, -0.0779-0.0000j, -0.1869+0.1920j, \n",
      "vec1: 0.9254+0.0000j, -0.1705+0.1752j, -0.1705+0.1752j, -0.0042-0.1551j, \n",
      "vec2: 0.1869+0.1920j, -0.0779+0.0000j, 0.9221+0.0000j, -0.1869+0.1920j, \n",
      "vec3: -0.1151+0.0423j, 0.2177+0.1718j, 0.2177+0.1718j, 0.9117+0.0000j, \n"
     ]
    }
   ],
   "source": [
    "U = Utility.generate_unitary_operator(theta, seed)\n",
    "U_inv = Operator(np.linalg.inv(U.data))\n",
    "prod = U_inv.tensor(U)\n",
    "e_vals, e_vectors = np.linalg.eig(prod.data)\n",
    "\n",
    "print('eigen values')\n",
    "print_vector(e_vals)\n",
    "print(f'theta = {Utility.get_theta(e_vals[2].real, e_vals[2].imag) * RAD}')\n",
    "print('eigen vectors')\n",
    "evv = []\n",
    "for i in range(len(e_vectors[0])):\n",
    "    print(f'vec{i}: ', end = '')\n",
    "    evv.append(e_vectors[:, i])\n",
    "    print_vector(evv[-1])"
   ]
  },
  {
   "cell_type": "code",
   "execution_count": 109,
   "id": "41e159a9",
   "metadata": {},
   "outputs": [
    {
     "name": "stdout",
     "output_type": "stream",
     "text": [
      "0.1869+0.1920j, 0.0000+0.0000j, 0.9221+0.0000j, 0.0000+0.0000j, -0.0779-0.0000j, 0.0000-0.0000j, -0.1869+0.1920j, -0.0000+0.0000j, \n"
     ]
    }
   ],
   "source": [
    "print_vector(np.kron(e_vectors[:, 0], [1, 0]))"
   ]
  },
  {
   "cell_type": "code",
   "execution_count": 141,
   "id": "e8173adb",
   "metadata": {},
   "outputs": [
    {
     "name": "stdout",
     "output_type": "stream",
     "text": [
      "0 1 0.8525271205279286\n",
      "1 2 0.1474728794720716\n",
      "1 3 0.30631198879179367\n"
     ]
    }
   ],
   "source": [
    "for i in range(4):\n",
    "    for j in range(i + 1, 4):\n",
    "        tmp = abs(np.dot(np.conj(evv[i]), evv[j]))\n",
    "        if tmp > 0.000001:\n",
    "            print(i, j, tmp)"
   ]
  },
  {
   "cell_type": "markdown",
   "id": "ac11ee22",
   "metadata": {},
   "source": [
    "### 1.4 Eigen value and eigen vector of $(U^{\\dagger} \\otimes U \\otimes I $)"
   ]
  },
  {
   "cell_type": "code",
   "execution_count": 124,
   "id": "06fc4a13",
   "metadata": {},
   "outputs": [
    {
     "name": "stdout",
     "output_type": "stream",
     "text": [
      "eigen values\n",
      "0.1736-0.9848j, 1.0000+0.0000j, 0.1736+0.9848j, 0.1736+0.9848j, 0.1736-0.9848j, 1.0000-0.0000j, 1.0000+0.0000j, 1.0000+0.0000j, \n",
      "theta = 80.0\n",
      "eigen vectors\n",
      "vec0: 0.1869+0.1920j, -0.0000+0.0000j, 0.9221+0.0000j, -0.0000+0.0000j, -0.0779-0.0000j, -0.0000+0.0000j, -0.1869+0.1920j, -0.0000+0.0000j, \n",
      "vec1: 0.9254+0.0000j, -0.0000-0.0000j, -0.1705+0.1752j, 0.0000+0.0000j, -0.1705+0.1752j, 0.0000+0.0000j, -0.0042-0.1551j, 0.0000+0.0000j, \n",
      "vec2: 0.1869+0.1920j, 0.0000+0.0000j, -0.0779-0.0000j, 0.0000+0.0000j, 0.9221+0.0000j, 0.0000+0.0000j, -0.1869+0.1920j, 0.0000+0.0000j, \n",
      "vec3: 0.0264-0.0045j, 0.1860+0.1910j, -0.0044+0.0064j, -0.0775+0.0000j, 0.0525-0.0759j, 0.9175+0.0000j, 0.0052+0.0263j, -0.1860+0.1910j, \n",
      "vec4: 0.0268+0.0184j, 0.1855+0.1906j, 0.1097-0.0220j, 0.9153+0.0000j, -0.0093+0.0019j, -0.0773-0.0000j, -0.0176+0.0273j, -0.1855+0.1906j, \n",
      "vec5: 0.2357-0.3162j, 0.5873+0.0000j, 0.1883+0.1555j, -0.1339+0.0680j, 0.1883+0.1555j, -0.1339+0.0680j, 0.4425-0.3104j, -0.1566-0.1354j, \n",
      "vec6: 0.0304+0.0417j, -0.2751-0.1632j, 0.1527+0.1713j, 0.1810-0.0997j, 0.1527+0.1713j, 0.1810-0.0997j, 0.7632+0.0000j, 0.0170-0.3485j, \n",
      "vec7: 0.0699+0.1270j, -0.1178+0.3729j, 0.0153-0.0609j, 0.1282+0.0826j, 0.0153-0.0609j, 0.1282+0.0826j, 0.0214-0.2417j, 0.8442+0.0000j, \n"
     ]
    }
   ],
   "source": [
    "U = Utility.generate_unitary_operator(theta, seed)\n",
    "U_inv = Operator(np.linalg.inv(U.data))\n",
    "I = Operator(np.eye(2))\n",
    "prod = U_inv.tensor(U)\n",
    "prod = prod.tensor(I)\n",
    "e_vals, e_vectors = np.linalg.eig(prod.data)\n",
    "\n",
    "print('eigen values')\n",
    "print_vector(e_vals)\n",
    "print(f'theta = {Utility.get_theta(e_vals[2].real, e_vals[2].imag) * RAD}')\n",
    "print('eigen vectors')\n",
    "for i in range(len(e_vectors[0])):\n",
    "    print(f'vec{i}: ', end = '')\n",
    "    print_vector(e_vectors[:, i])"
   ]
  },
  {
   "cell_type": "code",
   "execution_count": 138,
   "id": "ee91ddbe",
   "metadata": {},
   "outputs": [
    {
     "name": "stdout",
     "output_type": "stream",
     "text": [
      "0 4 0.12129087847783694\n",
      "1 5 0.4261891719720335\n",
      "1 6 0.05579413429015102\n",
      "1 7 0.15669539966944387\n",
      "2 3 0.1000985654068731\n",
      "5 6 0.35402429684890263\n",
      "5 7 0.28061563426418035\n",
      "6 7 0.03111518390651995\n"
     ]
    }
   ],
   "source": [
    "for i in range(8):\n",
    "    for j in range(i + 1, 8):\n",
    "        tmp = abs(np.dot(np.conj(e_vectors[:, i]), e_vectors[:, j]))\n",
    "        if tmp > 0.000001:\n",
    "            print(i, j, tmp)"
   ]
  },
  {
   "cell_type": "code",
   "execution_count": 123,
   "id": "cdaa448b",
   "metadata": {},
   "outputs": [
    {
     "name": "stdout",
     "output_type": "stream",
     "text": [
      "0.6265-0.8697j, -0.3133+0.4348j, 0.0541+0.3067j, -0.0270-0.1534j, -0.6405-3.6325j, 0.3203+1.8162j, 0.8862+0.6029j, -0.4431-0.3015j, \n",
      "0.6265-0.8697j, -0.3133+0.4348j, 0.0541+0.3067j, -0.0270-0.1534j, -0.6405-3.6325j, 0.3203+1.8162j, 0.8862+0.6029j, -0.4431-0.3015j, \n"
     ]
    }
   ],
   "source": [
    "v_random = [-4, 2]\n",
    "print_vector(np.dot(prod.data, np.kron(evv[2], v_random)))\n",
    "print_vector(e_vals[2] * np.kron(evv[2], v_random))"
   ]
  },
  {
   "cell_type": "code",
   "execution_count": 118,
   "id": "259e645d",
   "metadata": {},
   "outputs": [
    {
     "data": {
      "text/plain": [
       "(0.17364817766693064+0.9848077530122085j)"
      ]
     },
     "execution_count": 118,
     "metadata": {},
     "output_type": "execute_result"
    }
   ],
   "source": [
    "e_vals[3]"
   ]
  },
  {
   "cell_type": "markdown",
   "id": "e63fbbdd",
   "metadata": {},
   "source": [
    "### 1.5 visulization of $U$'s eigen value"
   ]
  },
  {
   "cell_type": "code",
   "execution_count": 27,
   "id": "84f5b216",
   "metadata": {},
   "outputs": [
    {
     "name": "stdout",
     "output_type": "stream",
     "text": [
      "eigen value 1: (0.8571673007021122+0.515038074910054j)\n",
      "eigen value 2: (0.8571673007021122-0.5150380749100542j)\n",
      "eigen vector 1: [ 0.96027764+0.j         -0.19464174+0.19995362j]\n",
      "eigen vector 2: [0.19464174+0.19995362j 0.96027764+0.j        ]\n",
      "[[ 0.8571673 +0.43482928j  0.19778594-0.19253165j]\n",
      " [-0.19778594-0.19253165j  0.8571673 -0.43482928j]]\n"
     ]
    },
    {
     "data": {
      "image/png": "[encoded data removed]",
      "text/plain": [
       "<Figure size 360x360 with 1 Axes>"
      ]
     },
     "metadata": {
      "needs_background": "light"
     },
     "output_type": "display_data"
    }
   ],
   "source": [
    "e_vals, e_vectors = np.linalg.eig(U.data)\n",
    "\n",
    "print('eigen value 1:', e_vals[0])\n",
    "print('eigen value 2:', e_vals[1])\n",
    "print('eigen vector 1:', e_vectors[:, 0])\n",
    "print('eigen vector 2:', e_vectors[:, 1])\n",
    "\n",
    "Lambda = np.array([[e_vals[0], 0], [0, e_vals[1]]])\n",
    "Q = np.stack([e_vectors[:, 0], e_vectors[:, 1]], axis=1)\n",
    "Q_inv = np.linalg.inv(Q)\n",
    "print(np.dot(Q, np.dot(Lambda, Q_inv)))\n",
    "\n",
    "\n",
    "fig, ax = plt.subplots(1, 1, figsize=(5, 5))\n",
    "ax.set_xlim([-1.01, 1.01])\n",
    "ax.set_ylim([-1.01, 1.01])\n",
    "circle = plt.Circle((0, 0), 1, fill=False, linewidth=2)\n",
    "ax.add_patch(circle)\n",
    "Ox = [0, 0]\n",
    "Oy = [0, 0]\n",
    "Vx = [e_vals[0].real, e_vals[1].real]\n",
    "Vy = [e_vals[0].imag, e_vals[1].imag]\n",
    "color = ['r', 'r']\n",
    "plt.quiver(Ox, Oy, Vx, Vy, units='xy', color=color, scale=1)\n",
    "plt.grid()\n",
    "plt.show()"
   ]
  },
  {
   "cell_type": "markdown",
   "id": "90fe18e2",
   "metadata": {},
   "source": [
    "# 2 The Initial State by Hill Climbing and Guess | Visualization"
   ]
  },
  {
   "cell_type": "code",
   "execution_count": 31,
   "id": "b4308958",
   "metadata": {},
   "outputs": [
    {
     "name": "stdout",
     "output_type": "stream",
     "text": [
      "Unitary Operator:\n",
      "( 0.34202+0.79335i) ( 0.36086-0.35128i) \n",
      "(-0.36086-0.35128i) ( 0.34202-0.79335i) \n"
     ]
    }
   ],
   "source": [
    "num_sensor = 3\n",
    "theta = 70\n",
    "seed =  2\n",
    "RAD = 180/np.pi\n",
    "\n",
    "unitary_operator = Utility.generate_unitary_operator(theta, seed)\n",
    "Utility.print_matrix('Unitary Operator:', unitary_operator.data)"
   ]
  },
  {
   "cell_type": "code",
   "execution_count": 32,
   "id": "49b57ee1",
   "metadata": {},
   "outputs": [
    {
     "name": "stdout",
     "output_type": "stream",
     "text": [
      "{\"experiment_id\": 0, \"num_sensor\": 3, \"priors\": [0.3333, 0.3333, 0.3333], \"unitary_seed\": 2, \"unitary_theta\": 70.0}\n",
      "\n",
      "Theorem\n",
      "Initial state:\n",
      "|000>:  0.630197  0.294326i\n",
      "|001>:  0.321931  0.071565i\n",
      "|010>:  0.321931  0.071565i\n",
      "|011>: -0.183721  0.158921i\n",
      "|100>:  0.321931  0.071565i\n",
      "|101>: -0.183721  0.158921i\n",
      "|110>: -0.183721  0.158921i\n",
      "|111>:  0.002986 -0.113598i\n",
      "\n",
      "0.4838 0.1088 0.1088 0.059 0.1088 0.059 0.059 0.0129 \n",
      "Guess success rate = 0.9999496\n",
      "\n"
     ]
    }
   ],
   "source": [
    "# read from the logs\n",
    "\n",
    "# logs = ['../result/5.11.2022/verify']\n",
    "logs = ['../result/7.11.2022/verify']\n",
    "data = Logger.read_log(logs)\n",
    "initstate_hills = []\n",
    "initstate_guess = QuantumState(num_sensor)\n",
    "\n",
    "guess = False\n",
    "for experiment in data:\n",
    "    myinput = experiment[0]\n",
    "#     if myinput.unitary_theta != 31:\n",
    "#         continue\n",
    "#     print(myinput)\n",
    "    output_by_method = experiment[1]\n",
    "    if 'Hill climbing' in output_by_method:\n",
    "        # print(output_by_method['Hill climbing'].init_state)\n",
    "        init_state = QuantumState(num_sensor)\n",
    "        init_state.set_statevector_from_str(output_by_method['Hill climbing'].init_state)\n",
    "        initstate_hills.append([init_state, output_by_method['Hill climbing'].success])\n",
    "\n",
    "    if 'Guess' in output_by_method and guess is False:\n",
    "        guess = True\n",
    "        print(myinput)\n",
    "        print(output_by_method['Guess'].init_state)\n",
    "        initstate_guess.set_statevector_from_str(output_by_method['Guess'].init_state)\n",
    "        for cplx in initstate_guess.state_vector:\n",
    "            print(round(abs(cplx)**2, 4), end=' ')\n",
    "        print()\n",
    "        print(f\"Guess success rate = {output_by_method['Guess'].success}\\n\")"
   ]
  },
  {
   "cell_type": "code",
   "execution_count": 33,
   "id": "beded93d",
   "metadata": {},
   "outputs": [
    {
     "name": "stdout",
     "output_type": "stream",
     "text": [
      "0\n",
      "|000>: -0.051921  0.427669i\n",
      "|001>:  0.212385  0.129962i\n",
      "|010>:  0.005434  0.276798i\n",
      "|011>: -0.249201  0.320642i\n",
      "|100>:  0.207427 -0.124092i\n",
      "|101>:  0.346764 -0.039014i\n",
      "|110>:  0.094860  0.345895i\n",
      "|111>: -0.335407 -0.299189i\n",
      "\n",
      "0.1856 0.062 0.0766 0.1649 0.0584 0.1218 0.1286 0.202 \n",
      "1.0000024\n",
      "\n"
     ]
    }
   ],
   "source": [
    "for i, (qstate, prob) in enumerate(initstate_hills):\n",
    "    print(i)\n",
    "    print(qstate)\n",
    "    for cplx in qstate.state_vector:\n",
    "        print(round(abs(cplx)**2, 4), end=' ')\n",
    "    print()\n",
    "    print(prob)\n",
    "    print()"
   ]
  },
  {
   "cell_type": "code",
   "execution_count": 34,
   "id": "952ac799",
   "metadata": {},
   "outputs": [
    {
     "name": "stdout",
     "output_type": "stream",
     "text": [
      "Hill climb initial state:\n",
      "\n",
      "(-0.051921+0.427669j) abs = 0.18559656380200004\n",
      "(0.212385+0.129962j) abs = 0.061997509669\n",
      "(0.005434+0.276798j) abs = 0.07664666115999999\n",
      "(-0.249201+0.320642j) abs = 0.164912430565\n",
      "(0.207427-0.124092j) abs = 0.05842478479299999\n",
      "(0.346764-0.039014j) abs = 0.12176736389200002\n",
      "(0.09486+0.345895j) abs = 0.128641770625\n",
      "(-0.335407-0.299189j) abs = 0.20201191337\n"
     ]
    }
   ],
   "source": [
    "print('Hill climb initial state:\\n')\n",
    "for cplx in init_state.state_vector:\n",
    "    print(cplx, 'abs =', abs(cplx)**2)"
   ]
  },
  {
   "cell_type": "code",
   "execution_count": 35,
   "id": "a1451e05",
   "metadata": {},
   "outputs": [
    {
     "name": "stdout",
     "output_type": "stream",
     "text": [
      "Guess initial state:\n",
      "\n",
      "(0.630197+0.294326j) abs = 0.483776053085\n",
      "(0.321931+0.071565j) abs = 0.10876111798600004\n",
      "(0.321931+0.071565j) abs = 0.10876111798600004\n",
      "(-0.183721+0.158921j) abs = 0.059009290082\n",
      "(0.321931+0.071565j) abs = 0.10876111798600004\n",
      "(-0.183721+0.158921j) abs = 0.059009290082\n",
      "(-0.183721+0.158921j) abs = 0.059009290082\n",
      "(0.002986-0.113598j) abs = 0.012913421800000002\n"
     ]
    }
   ],
   "source": [
    "print('Guess initial state:\\n')\n",
    "for cplx in initstate_guess.state_vector:\n",
    "    print(cplx, 'abs =', abs(cplx)**2)"
   ]
  },
  {
   "cell_type": "markdown",
   "id": "9c8a654d",
   "metadata": {},
   "source": [
    "# 3 Prepare the States to be Discriminated from the Initial State"
   ]
  },
  {
   "cell_type": "markdown",
   "id": "9c1d6a2e",
   "metadata": {},
   "source": [
    "## 3.1 Hill Climbing"
   ]
  },
  {
   "cell_type": "code",
   "execution_count": 36,
   "id": "d15df97a",
   "metadata": {},
   "outputs": [
    {
     "name": "stdout",
     "output_type": "stream",
     "text": [
      "|000>: -0.325787 -0.012564i\n",
      "|001>:  0.080964  0.077057i\n",
      "|010>: -0.062003  0.190480i\n",
      "|011>: -0.565747 -0.078183i\n",
      "|100>:  0.141462 -0.343095i\n",
      "|101>:  0.056659 -0.409953i\n",
      "|110>:  0.402132 -0.058749i\n",
      "|111>: -0.149517  0.135597i\n",
      "\n",
      "|000>: -0.257856  0.203057i\n",
      "|001>: -0.007759  0.416192i\n",
      "|010>:  0.390423 -0.045732i\n",
      "|011>:  0.138161  0.185866i\n",
      "|100>:  0.325129  0.213619i\n",
      "|101>: -0.076582  0.271616i\n",
      "|110>:  0.188417  0.014962i\n",
      "|111>: -0.490917  0.056036i\n",
      "\n",
      "|000>: -0.234755  0.077372i\n",
      "|001>:  0.344712 -0.260137i\n",
      "|010>: -0.195033  0.302228i\n",
      "|011>:  0.264421  0.205575i\n",
      "|100>:  0.280822 -0.013768i\n",
      "|101>: -0.030795 -0.316533i\n",
      "|110>: -0.468106  0.203415i\n",
      "|111>: -0.264805  0.005624i\n",
      "\n"
     ]
    }
   ],
   "source": [
    "index = 0\n",
    "quantum_states_hill = []\n",
    "\n",
    "for i in range(num_sensor):\n",
    "    evolve_operator = Utility.evolve_operator(unitary_operator, num_sensor, i)\n",
    "    init_state_copy = copy.deepcopy(initstate_hills[index][0])\n",
    "    init_state_copy.evolve(evolve_operator)\n",
    "    quantum_states_hill.append(init_state_copy)\n",
    "    \n",
    "for state in quantum_states_hill:\n",
    "    print(state)"
   ]
  },
  {
   "cell_type": "markdown",
   "id": "23724519",
   "metadata": {},
   "source": [
    "### 3.1.1 Hill Climb Check Orthogonal: the absolute value is very close to zero"
   ]
  },
  {
   "cell_type": "code",
   "execution_count": 37,
   "id": "9393d113",
   "metadata": {},
   "outputs": [
    {
     "name": "stdout",
     "output_type": "stream",
     "text": [
      "<state_0|state_1> = (0.00018364559306063843+5.633436707823403e-05j), absolute value = 0.000192\n",
      "<state_0|state_2> = (-2.0806400933270908e-06+0.00020682797177842827j), absolute value = 0.000207\n",
      "<state_1|state_2> = (-2.062625117274508e-05+0.00015049360470018036j), absolute value = 0.000152\n"
     ]
    }
   ],
   "source": [
    "n = len(quantum_states_hill)\n",
    "for i in range(n):\n",
    "    for j in range(i + 1, n):\n",
    "        val = np.dot(np.conj(quantum_states_hill[i].state_vector), quantum_states_hill[j].state_vector)\n",
    "        print(f'<state_{i}|state_{j}> = {val}, absolute value = {abs(val):.6f}')"
   ]
  },
  {
   "cell_type": "markdown",
   "id": "938126bd",
   "metadata": {},
   "source": [
    "# 3.2 Guess"
   ]
  },
  {
   "cell_type": "code",
   "execution_count": 38,
   "id": "0054568d",
   "metadata": {},
   "outputs": [],
   "source": [
    "initstate_guess_copy = copy.deepcopy(initstate_guess)"
   ]
  },
  {
   "cell_type": "code",
   "execution_count": 39,
   "id": "278babc1",
   "metadata": {},
   "outputs": [
    {
     "name": "stdout",
     "output_type": "stream",
     "text": [
      "|000>:  0.630197  0.294326i\n",
      "|001>:  0.321931  0.071565i\n",
      "|010>:  0.321931  0.071565i\n",
      "|011>: -0.183721  0.158921i\n",
      "|100>:  0.321931  0.071565i\n",
      "|101>: -0.183721  0.158921i\n",
      "|110>: -0.183721  0.158921i\n",
      "|111>:  0.002986 -0.113598i\n",
      "\n"
     ]
    }
   ],
   "source": [
    "print(initstate_guess)"
   ]
  },
  {
   "cell_type": "code",
   "execution_count": 40,
   "id": "02b33819",
   "metadata": {},
   "outputs": [],
   "source": [
    "initstate_guess_copy.state_vector[0] = 0.264331 - 0.271545j"
   ]
  },
  {
   "cell_type": "code",
   "execution_count": 41,
   "id": "697cab1a",
   "metadata": {},
   "outputs": [],
   "source": [
    "quantum_states_guess = []\n",
    "\n",
    "for i in range(num_sensor):\n",
    "    evolve_operator = Utility.evolve_operator(unitary_operator, num_sensor, i)\n",
    "    init_state_copy = copy.deepcopy(initstate_guess_copy)\n",
    "    init_state_copy.evolve(evolve_operator)\n",
    "    quantum_states_guess.append(init_state_copy)"
   ]
  },
  {
   "cell_type": "code",
   "execution_count": 42,
   "id": "e1ae49e2",
   "metadata": {},
   "outputs": [
    {
     "name": "stdout",
     "output_type": "stream",
     "text": [
      "|000>:  0.447149  0.029572i\n",
      "|001>:  0.042858  0.401766i\n",
      "|010>:  0.042858  0.401766i\n",
      "|011>: -0.227743 -0.133443i\n",
      "|100>: -0.023891 -0.225790i\n",
      "|101>: -0.027790  0.061198i\n",
      "|110>: -0.027790  0.061198i\n",
      "|111>:  0.033021 -0.034034i\n",
      "\n",
      "|000>:  0.447149  0.029572i\n",
      "|001>:  0.042858  0.401766i\n",
      "|010>: -0.023891 -0.225790i\n",
      "|011>: -0.027790  0.061198i\n",
      "|100>:  0.042858  0.401766i\n",
      "|101>: -0.227743 -0.133443i\n",
      "|110>: -0.027790  0.061198i\n",
      "|111>:  0.033021 -0.034034i\n",
      "\n",
      "|000>:  0.447149  0.029572i\n",
      "|001>: -0.023891 -0.225790i\n",
      "|010>:  0.042858  0.401766i\n",
      "|011>: -0.027790  0.061198i\n",
      "|100>:  0.042858  0.401766i\n",
      "|101>: -0.027790  0.061198i\n",
      "|110>: -0.227743 -0.133443i\n",
      "|111>:  0.033021 -0.034034i\n",
      "\n"
     ]
    }
   ],
   "source": [
    "for state in quantum_states_guess:\n",
    "    print(state)"
   ]
  },
  {
   "cell_type": "markdown",
   "id": "629eb27b",
   "metadata": {},
   "source": [
    "### 3.2.1 Guess Check Orthogonal: absolute value far away from zero"
   ]
  },
  {
   "cell_type": "code",
   "execution_count": 43,
   "id": "c34901d2",
   "metadata": {},
   "outputs": [
    {
     "name": "stdout",
     "output_type": "stream",
     "text": [
      "<state_0|state_1> = (0.18368316416544508+0j), absolute value = 0.183683\n",
      "<state_0|state_2> = (0.1836831641654451+0j), absolute value = 0.183683\n",
      "<state_1|state_2> = (0.18368316416544506+0j), absolute value = 0.183683\n"
     ]
    }
   ],
   "source": [
    "n = len(quantum_states_guess)\n",
    "for i in range(n):\n",
    "    for j in range(i + 1, n):\n",
    "        val = np.dot(np.conj(quantum_states_guess[i].state_vector), quantum_states_guess[j].state_vector)\n",
    "        print(f'<state_{i}|state_{j}> = {val}, absolute value = {abs(val):.6f}')"
   ]
  },
  {
   "cell_type": "markdown",
   "id": "3ed27219",
   "metadata": {},
   "source": [
    "# 4 Let's do the Measurement!"
   ]
  },
  {
   "cell_type": "markdown",
   "id": "c7cf0c47",
   "metadata": {},
   "source": [
    "## 4.1 Hill Climbing: Use Semidefinite Programming to Generate the POVM"
   ]
  },
  {
   "cell_type": "code",
   "execution_count": 44,
   "id": "262a0fe9",
   "metadata": {},
   "outputs": [],
   "source": [
    "povm_hill = Povm()\n",
    "\n",
    "priors = [1./3, 1./3, 1./3]   # equal priors\n",
    "povm_hill.semidefinite_programming_minerror(quantum_states_hill, priors, debug=False)"
   ]
  },
  {
   "cell_type": "code",
   "execution_count": 45,
   "id": "972ac7c6",
   "metadata": {},
   "outputs": [
    {
     "name": "stdout",
     "output_type": "stream",
     "text": [
      "The theoretical success rate = 1.0000014231488277\n",
      "The theoretical error rate = -1.4231488276728044e-06\n"
     ]
    }
   ],
   "source": [
    "print(f'The theoretical success rate = {povm_hill.theoretical_success}')\n",
    "print(f'The theoretical error rate = {povm_hill.theoretical_error}')"
   ]
  },
  {
   "cell_type": "markdown",
   "id": "3cf0d263",
   "metadata": {},
   "source": [
    "## 4.2 Hill climbing: Let's do the Quantum Measurement Simulation"
   ]
  },
  {
   "cell_type": "code",
   "execution_count": 46,
   "id": "3060281c",
   "metadata": {},
   "outputs": [
    {
     "name": "stdout",
     "output_type": "stream",
     "text": [
      "The simulated error = 1e-06\n"
     ]
    }
   ],
   "source": [
    "simulate_seed = 0\n",
    "repeat = 1_000_000\n",
    "qm = QuantumMeasurement()\n",
    "qm.preparation(quantum_states_hill, priors)\n",
    "qm.povm = povm_hill\n",
    "error = qm.simulate(simulate_seed, repeat)\n",
    "print(f'The simulated error = {error}')"
   ]
  },
  {
   "cell_type": "code",
   "execution_count": 47,
   "id": "5b8c5989",
   "metadata": {},
   "outputs": [
    {
     "name": "stdout",
     "output_type": "stream",
     "text": [
      "Hill climbing: the simulated error (1e-06) is very close to the theoretical error (-1.4231488276728044e-06)\n"
     ]
    }
   ],
   "source": [
    "print(f'Hill climbing: the simulated error ({error}) is very close to the theoretical error ({povm_hill.theoretical_error})')"
   ]
  },
  {
   "cell_type": "markdown",
   "id": "90bf6574",
   "metadata": {},
   "source": [
    "## 4.3 Guess: Use the Pretty Good Measurement to Generate the POVM and do Measurement Simulation"
   ]
  },
  {
   "cell_type": "code",
   "execution_count": 48,
   "id": "5220165b",
   "metadata": {},
   "outputs": [],
   "source": [
    "povm_guess = Povm()\n",
    "povm_guess.pretty_good_measurement(quantum_states_guess, priors, debug=False)"
   ]
  },
  {
   "cell_type": "code",
   "execution_count": 49,
   "id": "5facdacb",
   "metadata": {},
   "outputs": [],
   "source": [
    "simulate_seed = 0\n",
    "repeat = 1_000_000\n",
    "qm = QuantumMeasurement()\n",
    "qm.preparation(quantum_states_guess, priors)\n",
    "qm.povm = povm_guess\n",
    "guess_prettygood_error = qm.simulate(simulate_seed, repeat)"
   ]
  },
  {
   "cell_type": "code",
   "execution_count": 50,
   "id": "e092a3e6",
   "metadata": {},
   "outputs": [
    {
     "name": "stdout",
     "output_type": "stream",
     "text": [
      "Guess: pretty good measurement, the simulated error = 0.36333\n"
     ]
    }
   ],
   "source": [
    "print(f'Guess: pretty good measurement, the simulated error = {guess_prettygood_error}')"
   ]
  },
  {
   "cell_type": "markdown",
   "id": "284b50e1",
   "metadata": {},
   "source": [
    "## 4.4 Guess: Use the Semidefinite Programming to Generate the POVM and do Measurement Simulation"
   ]
  },
  {
   "cell_type": "code",
   "execution_count": 51,
   "id": "e7521103",
   "metadata": {},
   "outputs": [],
   "source": [
    "povm_guess.semidefinite_programming_minerror(quantum_states_guess, priors, debug=False)"
   ]
  },
  {
   "cell_type": "code",
   "execution_count": 52,
   "id": "446158dc",
   "metadata": {},
   "outputs": [],
   "source": [
    "simulate_seed = 0\n",
    "repeat = 1_000_000\n",
    "qm = QuantumMeasurement()\n",
    "qm.preparation(quantum_states_guess, priors)\n",
    "qm.povm = povm_guess\n",
    "guess_sdp_error = qm.simulate(simulate_seed, repeat)"
   ]
  },
  {
   "cell_type": "code",
   "execution_count": 53,
   "id": "3b8edac8",
   "metadata": {},
   "outputs": [
    {
     "name": "stdout",
     "output_type": "stream",
     "text": [
      "Guess: semidefinte programming, the simulated error = 0.363318\n"
     ]
    }
   ],
   "source": [
    "print(f'Guess: semidefinte programming, the simulated error = {guess_sdp_error}')"
   ]
  },
  {
   "cell_type": "code",
   "execution_count": 54,
   "id": "70982284",
   "metadata": {},
   "outputs": [
    {
     "name": "stdout",
     "output_type": "stream",
     "text": [
      "Guess: the pretty good measurement simulated error (0.36333) is very close to the SDP simulated error (0.363318)\n"
     ]
    }
   ],
   "source": [
    "print(f'Guess: the pretty good measurement simulated error ({guess_prettygood_error}) is very close to the SDP simulated error ({guess_sdp_error})')"
   ]
  },
  {
   "cell_type": "markdown",
   "id": "2f856050",
   "metadata": {},
   "source": [
    "# 5 Lemma 3"
   ]
  },
  {
   "cell_type": "code",
   "execution_count": 34,
   "id": "16c29b7f",
   "metadata": {},
   "outputs": [],
   "source": [
    "def generate_pyramid_states(n: int, x: float) -> list:\n",
    "    '''Note that the coefficients are real numbers instead of complex numbers\n",
    "    Params:\n",
    "        n -- number of qubits\n",
    "        x -- <q|q> = x\n",
    "    Return:\n",
    "        a list of QuantumState\n",
    "    '''\n",
    "    qstates = []\n",
    "    state = np.zeros(2 ** n)\n",
    "    state[0] = 1\n",
    "    qstates.append(state)\n",
    "    for i in range(1, n):\n",
    "        prev_state = qstates[-1]\n",
    "        state = np.zeros(2 ** n)\n",
    "        # 0 ~ i-2: copy\n",
    "        summ = 0\n",
    "        for j in range(i-1):\n",
    "            state[j] = prev_state[j]\n",
    "            summ += state[j] * prev_state[j]\n",
    "        # i-1: <phi|phi> = x\n",
    "        state[i-1] = (x - summ) / prev_state[i-1]\n",
    "        # i: normalization\n",
    "        summ = 0\n",
    "        for j in range(i):\n",
    "            summ += state[j] ** 2\n",
    "        state[i] = np.sqrt(1 - summ)\n",
    "        qstates.append(state)\n",
    "    return qstates"
   ]
  },
  {
   "cell_type": "code",
   "execution_count": 44,
   "id": "01258d76",
   "metadata": {},
   "outputs": [
    {
     "name": "stdout",
     "output_type": "stream",
     "text": [
      "[1.0, 0.0, 0.0, 0.0, 0.0]\n",
      "[0.999, 0.04471017781221601, 0.0, 0.0, 0.0]\n",
      "[0.999, 0.02234390577008662, 0.03872660422677808, 0.0, 0.0]\n",
      "[0.999, 0.02234390577008662, 0.012904562249017065, 0.03651331466874409, 0.0]\n",
      "[0.999, 0.02234390577008662, 0.012904562249017065, 0.009126044872172744, 0.0353544545013746]\n"
     ]
    }
   ],
   "source": [
    "n = 5\n",
    "x = 0.999\n",
    "qstates = generate_pyramid_states(n, x)\n",
    "for state in qstates:\n",
    "    print(list(state)[:n])"
   ]
  },
  {
   "cell_type": "code",
   "execution_count": 39,
   "id": "8d408fbe",
   "metadata": {},
   "outputs": [
    {
     "name": "stdout",
     "output_type": "stream",
     "text": [
      "0: check normalization = 1.0\n",
      "1: check normalization = 0.9999999999999999\n",
      "1-0: 0.5\n",
      "2: check normalization = 1.0\n",
      "2-0: 0.5\n",
      "2-1: 0.5\n",
      "3: check normalization = 1.0\n",
      "3-0: 0.5\n",
      "3-1: 0.5\n",
      "3-2: 0.5\n",
      "4: check normalization = 1.0\n",
      "4-0: 0.5\n",
      "4-1: 0.5\n",
      "4-2: 0.5\n",
      "4-3: 0.5\n"
     ]
    }
   ],
   "source": [
    "for i in range(n):\n",
    "    print(f'{i}: check normalization = {np.sum(qstates[i]**2)}')\n",
    "    for j in range(i):\n",
    "        print(f'{i}-{j}: {np.dot(qstates[i], qstates[j])}')"
   ]
  },
  {
   "cell_type": "code",
   "execution_count": null,
   "id": "13f9a99a",
   "metadata": {},
   "outputs": [],
   "source": []
  }
 ],
 "metadata": {
  "kernelspec": {
   "display_name": "Python 3 (ipykernel)",
   "language": "python",
   "name": "python3"
  },
  "language_info": {
   "codemirror_mode": {
    "name": "ipython",
    "version": 3
   },
   "file_extension": ".py",
   "mimetype": "text/x-python",
   "name": "python",
   "nbconvert_exporter": "python",
   "pygments_lexer": "ipython3",
   "version": "3.8.5"
  },
  "vscode": {
   "interpreter": {
    "hash": "e3569bb4aa814bfc1a29b84a53ef0645112910812997e24fd714d8bb9f60fa59"
   }
  }
 },
 "nbformat": 4,
 "nbformat_minor": 5
}
