{
 "cells": [
  {
   "cell_type": "code",
   "execution_count": 18,
   "id": "b43d284c",
   "metadata": {},
   "outputs": [],
   "source": [
    "import sys\n",
    "sys.path.append(\"..\")\n",
    "\n",
    "from utility import Utility\n",
    "from logger import Logger\n",
    "from quantum_state import QuantumState\n",
    "import copy\n",
    "from povm import Povm\n",
    "from quantum_measurement import QuantumMeasurement"
   ]
  },
  {
   "cell_type": "markdown",
   "id": "06e9987f",
   "metadata": {},
   "source": [
    "# 1 The Unitary Operator"
   ]
  },
  {
   "cell_type": "code",
   "execution_count": 2,
   "id": "10d4ebb6",
   "metadata": {},
   "outputs": [
    {
     "name": "stdout",
     "output_type": "stream",
     "text": [
      "Unitary Operator:\n",
      "( 0.0000+0.8443i) ( 0.3840-0.3738i) \n",
      "(-0.3840-0.3738i) ( 0.0000-0.8443i) \n"
     ]
    }
   ],
   "source": [
    "num_sensor = 3\n",
    "theta = 90\n",
    "seed =  2\n",
    "\n",
    "unitary_operator = Utility.generate_unitary_operator(theta, seed)\n",
    "Utility.print_matrix('Unitary Operator:', unitary_operator.data)"
   ]
  },
  {
   "cell_type": "markdown",
   "id": "114fd8ca",
   "metadata": {},
   "source": [
    "# 2 The Initial State by Hill Climbing and Guess"
   ]
  },
  {
   "cell_type": "code",
   "execution_count": 3,
   "id": "e0ad81df",
   "metadata": {},
   "outputs": [],
   "source": [
    "# read from the logs\n",
    "\n",
    "logs = ['../result/5.11.2022/verify']\n",
    "data = Logger.read_log(logs)\n",
    "initstate_hill = QuantumState(num_sensor)\n",
    "initstate_guess = QuantumState(num_sensor)"
   ]
  },
  {
   "cell_type": "code",
   "execution_count": 4,
   "id": "28270095",
   "metadata": {},
   "outputs": [
    {
     "name": "stdout",
     "output_type": "stream",
     "text": [
      "{\"experiment_id\": 0, \"num_sensor\": 3, \"priors\": [0.3333, 0.3333, 0.3333], \"unitary_seed\": 2, \"unitary_theta\": 90.0}\n",
      "\n",
      "Hill climbing\n",
      "Initial state:\n",
      "|000>:  0.04947  0.44774i\n",
      "|001>:  0.19240 -0.03599i\n",
      "|010>:  0.05576  0.23438i\n",
      "|011>: -0.04222  0.19419i\n",
      "|100>:  0.31208 -0.14945i\n",
      "|101>:  0.36901 -0.04718i\n",
      "|110>:  0.15573  0.34148i\n",
      "|111>: -0.40504 -0.31337i\n",
      "\n",
      "Hill climbing success rate = 0.9999784\n",
      "\n",
      "Guess\n",
      "Initial state:\n",
      "|000>: -0.00349  0.12947i\n",
      "|001>:  0.19850  0.20392i\n",
      "|010>:  0.19850  0.20392i\n",
      "|011>:  0.42490  0.00000i\n",
      "|100>:  0.19850  0.20392i\n",
      "|101>:  0.42490  0.00000i\n",
      "|110>:  0.42490  0.00000i\n",
      "|111>: -0.31088  0.31936i\n",
      "\n",
      "Guess success rate = 0.9259149\n"
     ]
    }
   ],
   "source": [
    "for experiment in data:\n",
    "    myinput = experiment[0]\n",
    "    print(myinput)\n",
    "    output_by_method = experiment[1]\n",
    "    if 'Hill climbing' in output_by_method:\n",
    "        print(output_by_method['Hill climbing'].init_state)\n",
    "        initstate_hill.set_statevector_from_str(output_by_method['Hill climbing'].init_state)\n",
    "        print(f\"Hill climbing success rate = {output_by_method['Hill climbing'].success}\")\n",
    "    if 'Guess' in output_by_method:\n",
    "        print(output_by_method['Guess'].init_state)\n",
    "        print(f\"Guess success rate = {output_by_method['Guess'].success}\")\n",
    "        initstate_guess.set_statevector_from_str(output_by_method['Guess'].init_state)"
   ]
  },
  {
   "cell_type": "code",
   "execution_count": 5,
   "id": "b290a21f",
   "metadata": {},
   "outputs": [
    {
     "data": {
      "text/plain": [
       "array([ 0.04947+0.44774j,  0.1924 -0.03599j,  0.05576+0.23438j,\n",
       "       -0.04222+0.19419j,  0.31208-0.14945j,  0.36901-0.04718j,\n",
       "        0.15573+0.34148j, -0.40504-0.31337j])"
      ]
     },
     "execution_count": 5,
     "metadata": {},
     "output_type": "execute_result"
    }
   ],
   "source": [
    "initstate_hill.state_vector"
   ]
  },
  {
   "cell_type": "code",
   "execution_count": 6,
   "id": "c86cd925",
   "metadata": {},
   "outputs": [
    {
     "data": {
      "text/plain": [
       "array([-0.00349+0.12947j,  0.1985 +0.20392j,  0.1985 +0.20392j,\n",
       "        0.4249 +0.j     ,  0.1985 +0.20392j,  0.4249 +0.j     ,\n",
       "        0.4249 +0.j     , -0.31088+0.31936j])"
      ]
     },
     "execution_count": 6,
     "metadata": {},
     "output_type": "execute_result"
    }
   ],
   "source": [
    "initstate_guess.state_vector"
   ]
  },
  {
   "cell_type": "markdown",
   "id": "7e195515",
   "metadata": {},
   "source": [
    "# 3 Prepare the States to be Discriminated from the Initial State"
   ]
  },
  {
   "cell_type": "markdown",
   "id": "a8a847f7",
   "metadata": {},
   "source": [
    "## 3.1 Hill Climbing"
   ]
  },
  {
   "cell_type": "code",
   "execution_count": 7,
   "id": "35fc8331",
   "metadata": {},
   "outputs": [],
   "source": [
    "quantum_states_hill = []\n",
    "\n",
    "for i in range(num_sensor):\n",
    "    evolve_operator = Utility.evolve_operator(unitary_operator, num_sensor, i)\n",
    "    init_state_copy = copy.deepcopy(initstate_hill)\n",
    "    init_state_copy.evolve(evolve_operator)\n",
    "    quantum_states_hill.append(init_state_copy)"
   ]
  },
  {
   "cell_type": "code",
   "execution_count": 8,
   "id": "6c917d31",
   "metadata": {},
   "outputs": [
    {
     "name": "stdout",
     "output_type": "stream",
     "text": [
      "|000>: -0.31403 -0.13229i\n",
      "|001>:  0.15446  0.00638i\n",
      "|010>: -0.01042  0.12000i\n",
      "|011>: -0.43664 -0.00457i\n",
      "|100>:  0.02220 -0.45391i\n",
      "|101>: -0.12717 -0.36964i\n",
      "|110>:  0.35450 -0.24233i\n",
      "|111>: -0.17576  0.28317i\n",
      "\n",
      "|000>: -0.26898  0.11093i\n",
      "|001>:  0.08676  0.25279i\n",
      "|010>:  0.34626 -0.23751i\n",
      "|011>:  0.07661 -0.02246i\n",
      "|100>:  0.31363  0.33640i\n",
      "|101>: -0.23286  0.34261i\n",
      "|110>:  0.11259 -0.19075i\n",
      "|111>: -0.42391  0.22214i\n",
      "\n",
      "|000>: -0.31758 -0.04398i\n",
      "|001>:  0.11799 -0.35287i\n",
      "|010>: -0.14150  0.13743i\n",
      "|011>:  0.23015 -0.07521i\n",
      "|100>:  0.25025  0.10742i\n",
      "|101>: -0.21555 -0.37081i\n",
      "|110>: -0.56099  0.16255i\n",
      "|111>: -0.19672  0.15261i\n",
      "\n"
     ]
    }
   ],
   "source": [
    "for state in quantum_states_hill:\n",
    "    print(state)"
   ]
  },
  {
   "cell_type": "markdown",
   "id": "92c8003f",
   "metadata": {},
   "source": [
    "# 3.2 Guess"
   ]
  },
  {
   "cell_type": "code",
   "execution_count": 9,
   "id": "56c51ed8",
   "metadata": {},
   "outputs": [],
   "source": [
    "quantum_states_guess = []\n",
    "\n",
    "for i in range(num_sensor):\n",
    "    evolve_operator = Utility.evolve_operator(unitary_operator, num_sensor, i)\n",
    "    init_state_copy = copy.deepcopy(initstate_guess)\n",
    "    init_state_copy.evolve(evolve_operator)\n",
    "    quantum_states_guess.append(init_state_copy)"
   ]
  },
  {
   "cell_type": "code",
   "execution_count": 10,
   "id": "b83763fd",
   "metadata": {},
   "outputs": [
    {
     "name": "stdout",
     "output_type": "stream",
     "text": [
      "|000>:  0.04315  0.00116i\n",
      "|001>: -0.00899  0.00875i\n",
      "|010>: -0.00899  0.00875i\n",
      "|011>: -0.00000  0.59758i\n",
      "|100>:  0.22190 -0.21600i\n",
      "|101>:  0.00000 -0.51124i\n",
      "|110>:  0.00000 -0.51124i\n",
      "|111>:  0.10645  0.10363i\n",
      "\n",
      "|000>:  0.04315  0.00116i\n",
      "|001>: -0.00899  0.00875i\n",
      "|010>:  0.22190 -0.21600i\n",
      "|011>:  0.00000 -0.51124i\n",
      "|100>: -0.00899  0.00875i\n",
      "|101>: -0.00000  0.59758i\n",
      "|110>:  0.00000 -0.51124i\n",
      "|111>:  0.10645  0.10363i\n",
      "\n",
      "|000>:  0.04315  0.00116i\n",
      "|001>:  0.22190 -0.21600i\n",
      "|010>: -0.00899  0.00875i\n",
      "|011>:  0.00000 -0.51124i\n",
      "|100>: -0.00899  0.00875i\n",
      "|101>:  0.00000 -0.51124i\n",
      "|110>: -0.00000  0.59758i\n",
      "|111>:  0.10645  0.10363i\n",
      "\n"
     ]
    }
   ],
   "source": [
    "for state in quantum_states_guess:\n",
    "    print(state)"
   ]
  },
  {
   "cell_type": "markdown",
   "id": "1fbd7cdc",
   "metadata": {},
   "source": [
    "# 4 Let's do the Measurement!"
   ]
  },
  {
   "cell_type": "markdown",
   "id": "b4ad4c8f",
   "metadata": {},
   "source": [
    "## 4.1 Hill Climbing: Use Semidefinite Programming to Generate the POVM"
   ]
  },
  {
   "cell_type": "code",
   "execution_count": 52,
   "id": "1fff51bd",
   "metadata": {},
   "outputs": [],
   "source": [
    "povm_hill = Povm()\n",
    "\n",
    "priors = [1./3, 1./3, 1./3]   # equal priors\n",
    "povm_hill.semidefinite_programming_minerror(quantum_states_hill, priors, debug=False)"
   ]
  },
  {
   "cell_type": "code",
   "execution_count": 20,
   "id": "f67cc80b",
   "metadata": {},
   "outputs": [
    {
     "name": "stdout",
     "output_type": "stream",
     "text": [
      "The theoretical success rate = 0.999987375212346\n",
      "The theoretical error rate = 1.2624787653958691e-05\n"
     ]
    }
   ],
   "source": [
    "print(f'The theoretical success rate = {povm_hill.theoretical_success}')\n",
    "print(f'The theoretical error rate = {povm_hill.theoretical_error}')"
   ]
  },
  {
   "cell_type": "markdown",
   "id": "cbe829b1",
   "metadata": {},
   "source": [
    "## 4.2 Hill climbing: Let's do the Quantum Measurement Simulation"
   ]
  },
  {
   "cell_type": "code",
   "execution_count": 23,
   "id": "285d04bf",
   "metadata": {},
   "outputs": [
    {
     "name": "stdout",
     "output_type": "stream",
     "text": [
      "The simulated error = 3.7e-05\n"
     ]
    }
   ],
   "source": [
    "simulate_seed = 0\n",
    "repeat = 1_000_000\n",
    "qm = QuantumMeasurement()\n",
    "qm.preparation(quantum_states_hill, priors)\n",
    "qm.povm = povm_hill\n",
    "error = qm.simulate(simulate_seed, repeat)\n",
    "print(f'The simulated error = {error}')"
   ]
  },
  {
   "cell_type": "code",
   "execution_count": 28,
   "id": "28733ebb",
   "metadata": {},
   "outputs": [
    {
     "name": "stdout",
     "output_type": "stream",
     "text": [
      "Hill climbing: the simulated error (3.7e-05) is very close to the theoretical error (1.2624787653958691e-05)\n"
     ]
    }
   ],
   "source": [
    "print(f'Hill climbing: the simulated error ({error}) is very close to the theoretical error ({povm_hill.theoretical_error})')"
   ]
  },
  {
   "cell_type": "markdown",
   "id": "9462599a",
   "metadata": {},
   "source": [
    "## 4.3 Guess: Use the Pretty Good Measurement to Generate the POVM and do Measurement Simulation"
   ]
  },
  {
   "cell_type": "code",
   "execution_count": 38,
   "id": "c77f1e14",
   "metadata": {},
   "outputs": [],
   "source": [
    "povm_guess = Povm()\n",
    "povm_guess.pretty_good_measurement(quantum_states_guess, priors, debug=False)"
   ]
  },
  {
   "cell_type": "code",
   "execution_count": 39,
   "id": "4fa92aea",
   "metadata": {},
   "outputs": [],
   "source": [
    "simulate_seed = 0\n",
    "repeat = 1_000_000\n",
    "qm = QuantumMeasurement()\n",
    "qm.preparation(quantum_states_guess, priors)\n",
    "qm.povm = povm_guess\n",
    "guess_prettygood_error = qm.simulate(simulate_seed, repeat)"
   ]
  },
  {
   "cell_type": "code",
   "execution_count": 40,
   "id": "de7680b9",
   "metadata": {},
   "outputs": [
    {
     "name": "stdout",
     "output_type": "stream",
     "text": [
      "Guess: pretty good measurement, the simulated error = 0.073945\n"
     ]
    }
   ],
   "source": [
    "print(f'Guess: pretty good measurement, the simulated error = {guess_prettygood_error}')"
   ]
  },
  {
   "cell_type": "markdown",
   "id": "7562799f",
   "metadata": {},
   "source": [
    "## 4.4 Guess: Use the Semidefinite Programming to Generate the POVM and do Measurement Simulation"
   ]
  },
  {
   "cell_type": "code",
   "execution_count": 51,
   "id": "4dc1e3ec",
   "metadata": {},
   "outputs": [],
   "source": [
    "povm_guess.semidefinite_programming_minerror(quantum_states_guess, priors, debug=False)"
   ]
  },
  {
   "cell_type": "code",
   "execution_count": 42,
   "id": "a544c096",
   "metadata": {},
   "outputs": [],
   "source": [
    "simulate_seed = 0\n",
    "repeat = 1_000_000\n",
    "qm = QuantumMeasurement()\n",
    "qm.preparation(quantum_states_guess, priors)\n",
    "qm.povm = povm_guess\n",
    "guess_sdp_error = qm.simulate(simulate_seed, repeat)"
   ]
  },
  {
   "cell_type": "code",
   "execution_count": 43,
   "id": "b9e92689",
   "metadata": {},
   "outputs": [
    {
     "name": "stdout",
     "output_type": "stream",
     "text": [
      "Guess: semidefinte programming, the simulated error = 0.073956\n"
     ]
    }
   ],
   "source": [
    "print(f'Guess: semidefinte programming, the simulated error = {guess_sdp_error}')"
   ]
  },
  {
   "cell_type": "code",
   "execution_count": 45,
   "id": "0f177983",
   "metadata": {},
   "outputs": [
    {
     "name": "stdout",
     "output_type": "stream",
     "text": [
      "Guess: the pretty good measurement simulated error (0.073945) is very close to the SDP simulated error (0.073956)\n"
     ]
    }
   ],
   "source": [
    "print(f'Guess: the pretty good measurement simulated error ({guess_prettygood_error}) is very close to the SDP simulated error ({guess_sdp_error})')"
   ]
  },
  {
   "cell_type": "markdown",
   "id": "313a0391",
   "metadata": {},
   "source": [
    "# 5 Comparing Hill climbing and Guess"
   ]
  },
  {
   "cell_type": "code",
   "execution_count": 50,
   "id": "914bf9ba",
   "metadata": {},
   "outputs": [
    {
     "name": "stdout",
     "output_type": "stream",
     "text": [
      "When the theta is 90 degrees, by simulation, the success rate for Hill climbing is 0.999987, which is larger than Guess success rate 0.926055\n"
     ]
    }
   ],
   "source": [
    "print(f'When the theta is 90 degrees, by simulation, the success rate for Hill climbing is {povm_hill.theoretical_success:.6f}, which is larger than Guess success rate {1 - guess_prettygood_error}')"
   ]
  },
  {
   "cell_type": "code",
   "execution_count": null,
   "id": "7b89a22a",
   "metadata": {},
   "outputs": [],
   "source": []
  }
 ],
 "metadata": {
  "kernelspec": {
   "display_name": "Python 3 (ipykernel)",
   "language": "python",
   "name": "python3"
  },
  "language_info": {
   "codemirror_mode": {
    "name": "ipython",
    "version": 3
   },
   "file_extension": ".py",
   "mimetype": "text/x-python",
   "name": "python",
   "nbconvert_exporter": "python",
   "pygments_lexer": "ipython3",
   "version": "3.8.5"
  }
 },
 "nbformat": 4,
 "nbformat_minor": 5
}
