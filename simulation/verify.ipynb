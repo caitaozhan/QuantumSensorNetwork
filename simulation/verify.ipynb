{
 "cells": [
  {
   "cell_type": "code",
   "execution_count": 2,
   "id": "01e1748c",
   "metadata": {},
   "outputs": [],
   "source": [
    "import warnings\n",
    "warnings.filterwarnings('ignore')\n",
    "\n",
    "import sys\n",
    "sys.path.append(\"..\")\n",
    "\n",
    "import numpy as np\n",
    "from utility import Utility\n",
    "from qiskit.visualization import plot_state_qsphere\n",
    "from qiskit.quantum_info import random_unitary\n",
    "from logger import Logger\n",
    "from quantum_state import QuantumState\n",
    "import copy\n",
    "import matplotlib.pyplot as plt\n",
    "from povm import Povm\n",
    "from quantum_measurement import QuantumMeasurement\n",
    "from qiskit.quantum_info.operators.operator import Operator"
   ]
  },
  {
   "cell_type": "code",
   "execution_count": 60,
   "id": "725b42f9",
   "metadata": {},
   "outputs": [],
   "source": [
    "def print_vector(vec):\n",
    "    for e in vec:\n",
    "        print(f'{e:.4f}', end=', ')\n",
    "    print()"
   ]
  },
  {
   "cell_type": "markdown",
   "id": "f519a143",
   "metadata": {},
   "source": [
    "# 1 The Unitary Operator"
   ]
  },
  {
   "cell_type": "code",
   "execution_count": 61,
   "id": "38b9b267",
   "metadata": {},
   "outputs": [
    {
     "name": "stdout",
     "output_type": "stream",
     "text": [
      "Unitary Operator:\n",
      "( 0.70711+0.59699i) ( 0.27154-0.26433i) \n",
      "(-0.27154-0.26433i) ( 0.70711-0.59699i) \n"
     ]
    }
   ],
   "source": [
    "num_sensor = 2\n",
    "theta = 45\n",
    "seed =  2\n",
    "\n",
    "unitary_operator = Utility.generate_unitary_operator(theta, seed)\n",
    "Utility.print_matrix('Unitary Operator:', unitary_operator.data)"
   ]
  },
  {
   "cell_type": "markdown",
   "id": "a7c3422d",
   "metadata": {},
   "source": [
    "### 1.1 Verify if $(U^{\\dagger} \\otimes U \\otimes I $) is unitary if $U$ is unitary"
   ]
  },
  {
   "cell_type": "code",
   "execution_count": 62,
   "id": "0db4c797",
   "metadata": {},
   "outputs": [
    {
     "name": "stdout",
     "output_type": "stream",
     "text": [
      "True True True True True True True True True True True True True True True True True True True True True True True True True True True True True True True True True True True True True True True True True True True True True True True True True True True True True True True True True True True True True True True True True True True True True True True True True True True True True True True True True True True True True True True True True True True True True True True True True True True True True True True True True True True True True True "
     ]
    }
   ],
   "source": [
    "for theta in range(1, 102, 10):\n",
    "    for seed in range(10):\n",
    "        U = Utility.generate_unitary_operator(theta, seed)\n",
    "        U_inv = Operator(np.linalg.inv(U.data))\n",
    "        I = Operator(np.eye(2))\n",
    "        prod = U_inv.tensor(U)\n",
    "        prod = prod.tensor(I)\n",
    "        print(prod.is_unitary(), end=' ')"
   ]
  },
  {
   "cell_type": "markdown",
   "id": "1d2b6b5c",
   "metadata": {},
   "source": [
    "### 1.2 Eigen value and eigen vector of $U$"
   ]
  },
  {
   "cell_type": "code",
   "execution_count": 63,
   "id": "3badc5c0",
   "metadata": {},
   "outputs": [],
   "source": [
    "theta = 40\n",
    "seed = 2\n",
    "RAD = 180/np.pi"
   ]
  },
  {
   "cell_type": "code",
   "execution_count": 65,
   "id": "e6235c82",
   "metadata": {},
   "outputs": [
    {
     "name": "stdout",
     "output_type": "stream",
     "text": [
      "eigen values\n",
      "0.7660+0.6428j, 0.7660-0.6428j, \n",
      "theta = 39.99999999999999\n",
      "eigen vectors\n",
      "vector 0: 0.9603+0.0000j, -0.1946+0.2000j, \n",
      "vector 1: 0.1946+0.2000j, 0.9603+0.0000j, \n"
     ]
    }
   ],
   "source": [
    "U = Utility.generate_unitary_operator(theta, seed)\n",
    "e_vals, e_vectors = np.linalg.eig(U.data)\n",
    "\n",
    "print('eigen values')\n",
    "print_vector(e_vals)\n",
    "print(f'theta = {Utility.get_theta(e_vals[0].real, e_vals[0].imag) * RAD}')\n",
    "print('eigen vectors')\n",
    "for i in range(len(e_vectors[0])):\n",
    "    print(f'vector {i}: ', end = '')\n",
    "    print_vector(e_vectors[:, i])"
   ]
  },
  {
   "cell_type": "markdown",
   "id": "c6a3d895",
   "metadata": {},
   "source": [
    "### 1.3 Eigen value and eigen vector of $(U^{\\dagger} \\otimes U$)"
   ]
  },
  {
   "cell_type": "code",
   "execution_count": 68,
   "id": "6bb685f0",
   "metadata": {},
   "outputs": [
    {
     "name": "stdout",
     "output_type": "stream",
     "text": [
      "eigen values\n",
      "0.1736-0.9848j, 1.0000-0.0000j, 0.1736+0.9848j, 1.0000+0.0000j, \n",
      "theta = 80.0\n",
      "eigen vectors\n",
      "vector 0: 0.1869+0.1920j, 0.9221+0.0000j, -0.0779-0.0000j, -0.1869+0.1920j, \n",
      "vector 1: 0.9254+0.0000j, -0.1705+0.1752j, -0.1705+0.1752j, -0.0042-0.1551j, \n",
      "vector 2: 0.1869+0.1920j, -0.0779+0.0000j, 0.9221+0.0000j, -0.1869+0.1920j, \n",
      "vector 3: -0.1151+0.0423j, 0.2177+0.1718j, 0.2177+0.1718j, 0.9117+0.0000j, \n"
     ]
    }
   ],
   "source": [
    "U = Utility.generate_unitary_operator(theta, seed)\n",
    "U_inv = Operator(np.linalg.inv(U.data))\n",
    "prod = U_inv.tensor(U)\n",
    "e_vals, e_vectors = np.linalg.eig(prod.data)\n",
    "\n",
    "print('eigen values')\n",
    "print_vector(e_vals)\n",
    "print(f'theta = {Utility.get_theta(e_vals[2].real, e_vals[2].imag) * RAD}')\n",
    "print('eigen vectors')\n",
    "for i in range(len(e_vectors[0])):\n",
    "    print(f'vector {i}: ', end = '')\n",
    "    print_vector(e_vectors[:, i])"
   ]
  },
  {
   "cell_type": "markdown",
   "id": "4d77f4bb",
   "metadata": {},
   "source": [
    "### 1.4 Eigen value and eigen vector of $(U^{\\dagger} \\otimes U \\otimes I $)"
   ]
  },
  {
   "cell_type": "code",
   "execution_count": 69,
   "id": "417df1f3",
   "metadata": {},
   "outputs": [
    {
     "name": "stdout",
     "output_type": "stream",
     "text": [
      "eigen values\n",
      "0.1736-0.9848j, 1.0000+0.0000j, 0.1736+0.9848j, 0.1736+0.9848j, 0.1736-0.9848j, 1.0000-0.0000j, 1.0000+0.0000j, 1.0000+0.0000j, \n",
      "theta = 80.0\n",
      "eigen vectors\n",
      "vector 0: 0.1869+0.1920j, -0.0000+0.0000j, 0.9221+0.0000j, -0.0000+0.0000j, -0.0779-0.0000j, -0.0000+0.0000j, -0.1869+0.1920j, -0.0000+0.0000j, \n",
      "vector 1: 0.9254+0.0000j, -0.0000-0.0000j, -0.1705+0.1752j, 0.0000+0.0000j, -0.1705+0.1752j, 0.0000+0.0000j, -0.0042-0.1551j, 0.0000+0.0000j, \n",
      "vector 2: 0.1869+0.1920j, 0.0000+0.0000j, -0.0779-0.0000j, 0.0000+0.0000j, 0.9221+0.0000j, 0.0000+0.0000j, -0.1869+0.1920j, 0.0000+0.0000j, \n",
      "vector 3: 0.0264-0.0045j, 0.1860+0.1910j, -0.0044+0.0064j, -0.0775+0.0000j, 0.0525-0.0759j, 0.9175+0.0000j, 0.0052+0.0263j, -0.1860+0.1910j, \n",
      "vector 4: 0.0268+0.0184j, 0.1855+0.1906j, 0.1097-0.0220j, 0.9153+0.0000j, -0.0093+0.0019j, -0.0773-0.0000j, -0.0176+0.0273j, -0.1855+0.1906j, \n",
      "vector 5: 0.2357-0.3162j, 0.5873+0.0000j, 0.1883+0.1555j, -0.1339+0.0680j, 0.1883+0.1555j, -0.1339+0.0680j, 0.4425-0.3104j, -0.1566-0.1354j, \n",
      "vector 6: 0.0304+0.0417j, -0.2751-0.1632j, 0.1527+0.1713j, 0.1810-0.0997j, 0.1527+0.1713j, 0.1810-0.0997j, 0.7632+0.0000j, 0.0170-0.3485j, \n",
      "vector 7: 0.0699+0.1270j, -0.1178+0.3729j, 0.0153-0.0609j, 0.1282+0.0826j, 0.0153-0.0609j, 0.1282+0.0826j, 0.0214-0.2417j, 0.8442+0.0000j, \n"
     ]
    }
   ],
   "source": [
    "U = Utility.generate_unitary_operator(theta, seed)\n",
    "U_inv = Operator(np.linalg.inv(U.data))\n",
    "I = Operator(np.eye(2))\n",
    "prod = U_inv.tensor(U)\n",
    "prod = prod.tensor(I)\n",
    "e_vals, e_vectors = np.linalg.eig(prod.data)\n",
    "\n",
    "print('eigen values')\n",
    "print_vector(e_vals)\n",
    "print(f'theta = {Utility.get_theta(e_vals[2].real, e_vals[2].imag) * RAD}')\n",
    "print('eigen vectors')\n",
    "for i in range(len(e_vectors[0])):\n",
    "    print(f'vector {i}: ', end = '')\n",
    "    print_vector(e_vectors[:, i])"
   ]
  },
  {
   "cell_type": "markdown",
   "id": "35507eea",
   "metadata": {},
   "source": [
    "### 1.5 visulization of $U$'s eigen value"
   ]
  },
  {
   "cell_type": "code",
   "execution_count": 51,
   "id": "5b9a18d9",
   "metadata": {},
   "outputs": [
    {
     "name": "stdout",
     "output_type": "stream",
     "text": [
      "eigen value 1: (0.7660444431189781+0.6427876096865393j)\n",
      "eigen value 2: (0.7660444431189781-0.6427876096865393j)\n",
      "eigen vector 1: [ 0.96027764+0.j         -0.19464174+0.19995362j]\n",
      "eigen vector 2: [0.19464174+0.19995362j 0.96027764+0.j        ]\n",
      "[[ 0.76604444+0.54268391j  0.24684457-0.24028701j]\n",
      " [-0.24684457-0.24028701j  0.76604444-0.54268391j]]\n"
     ]
    },
    {
     "data": {
      "image/png": "[encoded data removed]",
      "text/plain": [
       "<Figure size 360x360 with 1 Axes>"
      ]
     },
     "metadata": {
      "needs_background": "light"
     },
     "output_type": "display_data"
    }
   ],
   "source": [
    "e_vals, e_vectors = np.linalg.eig(U.data)\n",
    "\n",
    "print('eigen value 1:', e_vals[0])\n",
    "print('eigen value 2:', e_vals[1])\n",
    "print('eigen vector 1:', e_vectors[:, 0])\n",
    "print('eigen vector 2:', e_vectors[:, 1])\n",
    "\n",
    "Lambda = np.array([[e_vals[0], 0], [0, e_vals[1]]])\n",
    "Q = np.stack([e_vectors[:, 0], e_vectors[:, 1]], axis=1)\n",
    "Q_inv = np.linalg.inv(Q)\n",
    "print(np.dot(Q, np.dot(Lambda, Q_inv)))\n",
    "\n",
    "\n",
    "fig, ax = plt.subplots(1, 1, figsize=(5, 5))\n",
    "ax.set_xlim([-1.01, 1.01])\n",
    "ax.set_ylim([-1.01, 1.01])\n",
    "circle = plt.Circle((0, 0), 1, fill=False, linewidth=2)\n",
    "ax.add_patch(circle)\n",
    "Ox = [0, 0]\n",
    "Oy = [0, 0]\n",
    "Vx = [e_vals[0].real, e_vals[1].real]\n",
    "Vy = [e_vals[0].imag, e_vals[1].imag]\n",
    "color = ['r', 'r']\n",
    "plt.quiver(Ox, Oy, Vx, Vy, units='xy', color=color, scale=1)\n",
    "plt.grid()\n",
    "plt.show()"
   ]
  },
  {
   "cell_type": "markdown",
   "id": "e3b4396a",
   "metadata": {},
   "source": [
    "# 2 The Initial State by Hill Climbing and Guess | Visualization"
   ]
  },
  {
   "cell_type": "code",
   "execution_count": 53,
   "id": "1288c4a1",
   "metadata": {},
   "outputs": [
    {
     "name": "stdout",
     "output_type": "stream",
     "text": [
      "{\"experiment_id\": 0, \"num_sensor\": 2, \"priors\": [0.5, 0.5], \"unitary_seed\": 2, \"unitary_theta\": 45.0}\n",
      "\n",
      "Guess\n",
      "Initial state:\n",
      "|00>:  0.264331  0.271545i\n",
      "|01>:  0.596986  0.000000i\n",
      "|10>:  0.596986  0.000000i\n",
      "|11>: -0.264331  0.271545i\n",
      "\n",
      "0.1436 0.3564 0.3564 0.1436 \n",
      "Guess success rate = 1.0000109\n",
      "\n"
     ]
    }
   ],
   "source": [
    "# read from the logs\n",
    "\n",
    "logs = ['../result/5.11.2022/verify']\n",
    "data = Logger.read_log(logs)\n",
    "initstate_hills = []\n",
    "initstate_guess = QuantumState(num_sensor)\n",
    "\n",
    "guess = False\n",
    "for experiment in data:\n",
    "    myinput = experiment[0]\n",
    "    if myinput.unitary_theta != 45:\n",
    "        continue\n",
    "#     print(myinput)\n",
    "    output_by_method = experiment[1]\n",
    "    if 'Hill climbing' in output_by_method:\n",
    "#         print(output_by_method['Hill climbing'].init_state)\n",
    "        init_state = QuantumState(num_sensor)\n",
    "        init_state.set_statevector_from_str(output_by_method['Hill climbing'].init_state)\n",
    "        initstate_hills.append([init_state, output_by_method['Hill climbing'].success])\n",
    "\n",
    "    if 'Guess' in output_by_method and guess is False:\n",
    "        guess = True\n",
    "        print(myinput)\n",
    "        print(output_by_method['Guess'].init_state)\n",
    "        initstate_guess.set_statevector_from_str(output_by_method['Guess'].init_state)\n",
    "        for cplx in initstate_guess.state_vector:\n",
    "            print(round(abs(cplx)**2, 4), end=' ')\n",
    "        print()\n",
    "        print(f\"Guess success rate = {output_by_method['Guess'].success}\\n\")"
   ]
  },
  {
   "cell_type": "code",
   "execution_count": null,
   "id": "5f510336",
   "metadata": {},
   "outputs": [],
   "source": [
    "for i, (qstate, prob) in enumerate(initstate_hills):\n",
    "    print(i)\n",
    "    print(qstate)\n",
    "    for cplx in qstate.state_vector:\n",
    "        print(round(abs(cplx)**2, 4), end=' ')\n",
    "    print()\n",
    "    print(prob)\n",
    "    print()"
   ]
  },
  {
   "cell_type": "code",
   "execution_count": 26,
   "id": "92352860",
   "metadata": {},
   "outputs": [
    {
     "name": "stdout",
     "output_type": "stream",
     "text": [
      "Hill climb initial state:\n",
      "\n",
      "(0.086646+0.042082j) abs = 0.00927842404\n",
      "(-0.451674-0.565973j) abs = 0.524334839005\n",
      "(0.587925+0.335274j) abs = 0.4580644607010001\n",
      "(-0.021076+0.088757j) abs = 0.008322002825\n"
     ]
    },
    {
     "data": {
      "image/png": "[encoded data removed]",
      "text/plain": [
       "<Figure size 504x504 with 2 Axes>"
      ]
     },
     "metadata": {},
     "output_type": "display_data"
    }
   ],
   "source": [
    "print('Hill climb initial state:\\n')\n",
    "for cplx in initstate_hill.state_vector:\n",
    "    print(cplx, 'abs =', abs(cplx)**2)\n",
    "plot_state_qsphere(initstate_hill.state_vector)\n",
    "plt.show()"
   ]
  },
  {
   "cell_type": "code",
   "execution_count": 28,
   "id": "9f9d629e",
   "metadata": {},
   "outputs": [
    {
     "name": "stdout",
     "output_type": "stream",
     "text": [
      "Guess initial state:\n",
      "\n",
      "(0.264331+0.271545j) abs = 0.143607564586\n",
      "(0.596986+0j) abs = 0.356392284196\n",
      "(0.596986+0j) abs = 0.356392284196\n",
      "(-0.264331+0.271545j) abs = 0.143607564586\n"
     ]
    },
    {
     "data": {
      "image/png": "[encoded data removed]",
      "text/plain": [
       "<Figure size 504x504 with 2 Axes>"
      ]
     },
     "metadata": {},
     "output_type": "display_data"
    }
   ],
   "source": [
    "print('Guess initial state:\\n')\n",
    "for cplx in initstate_guess.state_vector:\n",
    "    print(cplx, 'abs =', abs(cplx)**2)\n",
    "plot_state_qsphere(initstate_guess.state_vector)\n",
    "plt.show()"
   ]
  },
  {
   "cell_type": "markdown",
   "id": "1815745f",
   "metadata": {},
   "source": [
    "# 3 Prepare the States to be Discriminated from the Initial State"
   ]
  },
  {
   "cell_type": "markdown",
   "id": "c77c77a5",
   "metadata": {},
   "source": [
    "## 3.1 Hill Climbing"
   ]
  },
  {
   "cell_type": "code",
   "execution_count": 77,
   "id": "469fe32f",
   "metadata": {},
   "outputs": [
    {
     "name": "stdout",
     "output_type": "stream",
     "text": [
      "|00>: -0.073186 -0.349470i\n",
      "|01>: -0.357323 -0.492717i\n",
      "|10>: -0.596094 -0.124004i\n",
      "|11>:  0.354282 -0.076444i\n",
      "\n",
      "|00>: -0.025666 -0.111678i\n",
      "|01>: -0.521407  0.463441i\n",
      "|10>:  0.209279 -0.664854i\n",
      "|11>:  0.117855 -0.022540i\n",
      "\n"
     ]
    }
   ],
   "source": [
    "index = 19\n",
    "quantum_states_hill = []\n",
    "\n",
    "for i in range(num_sensor):\n",
    "    evolve_operator = Utility.evolve_operator(unitary_operator, num_sensor, i)\n",
    "    init_state_copy = copy.deepcopy(initstate_hills[index][0])\n",
    "    init_state_copy.evolve(evolve_operator)\n",
    "    quantum_states_hill.append(init_state_copy)\n",
    "    \n",
    "for state in quantum_states_hill:\n",
    "    print(state)"
   ]
  },
  {
   "cell_type": "markdown",
   "id": "362270c1",
   "metadata": {},
   "source": [
    "### 3.1.1 Hill Climb Check Orthogonal: the absolute value is very close to zero"
   ]
  },
  {
   "cell_type": "code",
   "execution_count": 78,
   "id": "603095f0",
   "metadata": {},
   "outputs": [
    {
     "name": "stdout",
     "output_type": "stream",
     "text": [
      "<state_0|state_1> = (4.38750072925681e-05-1.0237080961622569e-05j), absolute value = 0.000045\n"
     ]
    }
   ],
   "source": [
    "n = len(quantum_states_hill)\n",
    "for i in range(n):\n",
    "    for j in range(i + 1, n):\n",
    "        val = np.dot(np.conj(quantum_states_hill[i].state_vector), quantum_states_hill[j].state_vector)\n",
    "        print(f'<state_{i}|state_{j}> = {val}, absolute value = {abs(val):.6f}')"
   ]
  },
  {
   "cell_type": "markdown",
   "id": "f336dbb8",
   "metadata": {},
   "source": [
    "# 3.2 Guess"
   ]
  },
  {
   "cell_type": "code",
   "execution_count": 93,
   "id": "e560f517",
   "metadata": {},
   "outputs": [],
   "source": [
    "initstate_guess_copy = copy.deepcopy(initstate_guess)"
   ]
  },
  {
   "cell_type": "code",
   "execution_count": 94,
   "id": "a634ac05",
   "metadata": {},
   "outputs": [
    {
     "name": "stdout",
     "output_type": "stream",
     "text": [
      "|00>:  0.264331  0.271545i\n",
      "|01>:  0.596986  0.000000i\n",
      "|10>:  0.596986  0.000000i\n",
      "|11>: -0.264331  0.271545i\n",
      "\n"
     ]
    }
   ],
   "source": [
    "print(initstate_guess)"
   ]
  },
  {
   "cell_type": "code",
   "execution_count": 95,
   "id": "8d45ac52",
   "metadata": {},
   "outputs": [],
   "source": [
    "initstate_guess_copy.state_vector[0] = 0.264331 - 0.271545j"
   ]
  },
  {
   "cell_type": "code",
   "execution_count": 96,
   "id": "c16ebd1d",
   "metadata": {},
   "outputs": [
    {
     "name": "stdout",
     "output_type": "stream",
     "text": [
      "|00>:  0.264331 -0.271545i\n",
      "|01>:  0.596986  0.000000i\n",
      "|10>:  0.596986  0.000000i\n",
      "|11>: -0.264331  0.271545i\n",
      "\n"
     ]
    }
   ],
   "source": [
    "print(initstate_guess_copy)"
   ]
  },
  {
   "cell_type": "code",
   "execution_count": 97,
   "id": "e9d44eac",
   "metadata": {},
   "outputs": [],
   "source": [
    "quantum_states_guess = []\n",
    "\n",
    "for i in range(num_sensor):\n",
    "    evolve_operator = Utility.evolve_operator(unitary_operator, num_sensor, i)\n",
    "    init_state_copy = copy.deepcopy(initstate_guess_copy)\n",
    "    init_state_copy.evolve(evolve_operator)\n",
    "    quantum_states_guess.append(init_state_copy)"
   ]
  },
  {
   "cell_type": "code",
   "execution_count": 98,
   "id": "1d370fee",
   "metadata": {},
   "outputs": [
    {
     "name": "stdout",
     "output_type": "stream",
     "text": [
      "|00>:  0.511127 -0.192011i\n",
      "|01>:  0.422133  0.500000i\n",
      "|10>:  0.278577 -0.352527i\n",
      "|11>: -0.186910  0.192012i\n",
      "\n",
      "|00>:  0.511127 -0.192011i\n",
      "|01>:  0.278577 -0.352527i\n",
      "|10>:  0.422133  0.500000i\n",
      "|11>: -0.186910  0.192012i\n",
      "\n"
     ]
    }
   ],
   "source": [
    "for state in quantum_states_guess:\n",
    "    print(state)"
   ]
  },
  {
   "cell_type": "markdown",
   "id": "46a5bd95",
   "metadata": {},
   "source": [
    "### 3.2.1 Guess Check Orthogonal: absolute value far away from zero"
   ]
  },
  {
   "cell_type": "code",
   "execution_count": 99,
   "id": "0a79c813",
   "metadata": {},
   "outputs": [
    {
     "name": "stdout",
     "output_type": "stream",
     "text": [
      "<state_0|state_1> = (0.2525897262945906+0j), absolute value = 0.252590\n"
     ]
    }
   ],
   "source": [
    "n = len(quantum_states_guess)\n",
    "for i in range(n):\n",
    "    for j in range(i + 1, n):\n",
    "        val = np.dot(np.conj(quantum_states_guess[i].state_vector), quantum_states_guess[j].state_vector)\n",
    "        print(f'<state_{i}|state_{j}> = {val}, absolute value = {abs(val):.6f}')"
   ]
  },
  {
   "cell_type": "markdown",
   "id": "ca750edc",
   "metadata": {},
   "source": [
    "# 4 Let's do the Measurement!"
   ]
  },
  {
   "cell_type": "markdown",
   "id": "cef5cd09",
   "metadata": {},
   "source": [
    "## 4.1 Hill Climbing: Use Semidefinite Programming to Generate the POVM"
   ]
  },
  {
   "cell_type": "code",
   "execution_count": 41,
   "id": "0cce0454",
   "metadata": {},
   "outputs": [],
   "source": [
    "povm_hill = Povm()\n",
    "\n",
    "priors = [1./2, 1./2]   # equal priors\n",
    "povm_hill.semidefinite_programming_minerror(quantum_states_hill, priors, debug=False)"
   ]
  },
  {
   "cell_type": "code",
   "execution_count": 42,
   "id": "b23d7aaa",
   "metadata": {},
   "outputs": [
    {
     "name": "stdout",
     "output_type": "stream",
     "text": [
      "The theoretical success rate = 0.9999988488254352\n",
      "The theoretical error rate = 1.1511745647840854e-06\n"
     ]
    }
   ],
   "source": [
    "print(f'The theoretical success rate = {povm_hill.theoretical_success}')\n",
    "print(f'The theoretical error rate = {povm_hill.theoretical_error}')"
   ]
  },
  {
   "cell_type": "markdown",
   "id": "7b1d9d10",
   "metadata": {},
   "source": [
    "## 4.2 Hill climbing: Let's do the Quantum Measurement Simulation"
   ]
  },
  {
   "cell_type": "code",
   "execution_count": 43,
   "id": "4dcc7740",
   "metadata": {},
   "outputs": [
    {
     "name": "stdout",
     "output_type": "stream",
     "text": [
      "The simulated error = 2e-06\n"
     ]
    }
   ],
   "source": [
    "simulate_seed = 0\n",
    "repeat = 1_000_000\n",
    "qm = QuantumMeasurement()\n",
    "qm.preparation(quantum_states_hill, priors)\n",
    "qm.povm = povm_hill\n",
    "error = qm.simulate(simulate_seed, repeat)\n",
    "print(f'The simulated error = {error}')"
   ]
  },
  {
   "cell_type": "code",
   "execution_count": 44,
   "id": "fe99012b",
   "metadata": {},
   "outputs": [
    {
     "name": "stdout",
     "output_type": "stream",
     "text": [
      "Hill climbing: the simulated error (2e-06) is very close to the theoretical error (1.1511745647840854e-06)\n"
     ]
    }
   ],
   "source": [
    "print(f'Hill climbing: the simulated error ({error}) is very close to the theoretical error ({povm_hill.theoretical_error})')"
   ]
  },
  {
   "cell_type": "markdown",
   "id": "ca11019d",
   "metadata": {},
   "source": [
    "## 4.3 Guess: Use the Pretty Good Measurement to Generate the POVM and do Measurement Simulation"
   ]
  },
  {
   "cell_type": "code",
   "execution_count": 45,
   "id": "560879bd",
   "metadata": {},
   "outputs": [],
   "source": [
    "povm_guess = Povm()\n",
    "povm_guess.pretty_good_measurement(quantum_states_guess, priors, debug=False)"
   ]
  },
  {
   "cell_type": "code",
   "execution_count": 46,
   "id": "35a6a912",
   "metadata": {},
   "outputs": [],
   "source": [
    "simulate_seed = 0\n",
    "repeat = 1_000_000\n",
    "qm = QuantumMeasurement()\n",
    "qm.preparation(quantum_states_guess, priors)\n",
    "qm.povm = povm_guess\n",
    "guess_prettygood_error = qm.simulate(simulate_seed, repeat)"
   ]
  },
  {
   "cell_type": "code",
   "execution_count": 47,
   "id": "b4b9b1bb",
   "metadata": {},
   "outputs": [
    {
     "name": "stdout",
     "output_type": "stream",
     "text": [
      "Guess: pretty good measurement, the simulated error = 0.0\n"
     ]
    }
   ],
   "source": [
    "print(f'Guess: pretty good measurement, the simulated error = {guess_prettygood_error}')"
   ]
  },
  {
   "cell_type": "markdown",
   "id": "828d8908",
   "metadata": {},
   "source": [
    "## 4.4 Guess: Use the Semidefinite Programming to Generate the POVM and do Measurement Simulation"
   ]
  },
  {
   "cell_type": "code",
   "execution_count": 51,
   "id": "d9b33005",
   "metadata": {},
   "outputs": [],
   "source": [
    "povm_guess.semidefinite_programming_minerror(quantum_states_guess, priors, debug=False)"
   ]
  },
  {
   "cell_type": "code",
   "execution_count": 42,
   "id": "50daa280",
   "metadata": {},
   "outputs": [],
   "source": [
    "simulate_seed = 0\n",
    "repeat = 1_000_000\n",
    "qm = QuantumMeasurement()\n",
    "qm.preparation(quantum_states_guess, priors)\n",
    "qm.povm = povm_guess\n",
    "guess_sdp_error = qm.simulate(simulate_seed, repeat)"
   ]
  },
  {
   "cell_type": "code",
   "execution_count": 43,
   "id": "71aa496a",
   "metadata": {},
   "outputs": [
    {
     "name": "stdout",
     "output_type": "stream",
     "text": [
      "Guess: semidefinte programming, the simulated error = 0.073956\n"
     ]
    }
   ],
   "source": [
    "print(f'Guess: semidefinte programming, the simulated error = {guess_sdp_error}')"
   ]
  },
  {
   "cell_type": "code",
   "execution_count": 45,
   "id": "3ed55c33",
   "metadata": {},
   "outputs": [
    {
     "name": "stdout",
     "output_type": "stream",
     "text": [
      "Guess: the pretty good measurement simulated error (0.073945) is very close to the SDP simulated error (0.073956)\n"
     ]
    }
   ],
   "source": [
    "print(f'Guess: the pretty good measurement simulated error ({guess_prettygood_error}) is very close to the SDP simulated error ({guess_sdp_error})')"
   ]
  },
  {
   "cell_type": "markdown",
   "id": "66d881f8",
   "metadata": {},
   "source": [
    "# 5 Comparing Hill climbing and Guess"
   ]
  },
  {
   "cell_type": "code",
   "execution_count": 50,
   "id": "f40e8ed0",
   "metadata": {},
   "outputs": [
    {
     "name": "stdout",
     "output_type": "stream",
     "text": [
      "When the theta is 90 degrees, by simulation, the success rate for Hill climbing is 0.999987, which is larger than Guess success rate 0.926055\n"
     ]
    }
   ],
   "source": [
    "print(f'When the theta is 90 degrees, by simulation, the success rate for Hill climbing is {povm_hill.theoretical_success:.6f}, which is larger than Guess success rate {1 - guess_prettygood_error}')"
   ]
  },
  {
   "cell_type": "code",
   "execution_count": null,
   "id": "58143667",
   "metadata": {},
   "outputs": [],
   "source": []
  }
 ],
 "metadata": {
  "kernelspec": {
   "display_name": "Python 3 (ipykernel)",
   "language": "python",
   "name": "python3"
  },
  "language_info": {
   "codemirror_mode": {
    "name": "ipython",
    "version": 3
   },
   "file_extension": ".py",
   "mimetype": "text/x-python",
   "name": "python",
   "nbconvert_exporter": "python",
   "pygments_lexer": "ipython3",
   "version": "3.8.5"
  }
 },
 "nbformat": 4,
 "nbformat_minor": 5
}
